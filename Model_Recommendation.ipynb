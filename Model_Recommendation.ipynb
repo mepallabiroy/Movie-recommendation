{
  "nbformat": 4,
  "nbformat_minor": 0,
  "metadata": {
    "colab": {
      "name": "Model Recommendation",
      "provenance": [],
      "collapsed_sections": [],
      "authorship_tag": "ABX9TyNkJqqXHe7vQWSsBrrCw5jP"
    },
    "kernelspec": {
      "name": "python3",
      "display_name": "Python 3"
    },
    "accelerator": "TPU"
  },
  "cells": [
    {
      "cell_type": "code",
      "metadata": {
        "id": "_n09b-wzh6vA",
        "colab_type": "code",
        "colab": {}
      },
      "source": [
        "%tensorflow_version 2.x"
      ],
      "execution_count": 0,
      "outputs": []
    },
    {
      "cell_type": "code",
      "metadata": {
        "id": "ujCOijBpizC-",
        "colab_type": "code",
        "colab": {}
      },
      "source": [
        "import pandas as pd\n",
        "import numpy as np\n",
        "import matplotlib.pyplot as plt\n",
        "from sklearn.model_selection import train_test_split\n",
        "from sklearn.preprocessing import StandardScaler\n",
        "from tensorflow.keras.layers import Input, Embedding, Flatten, Dot, Dense, Add, Dropout\n",
        "from tensorflow.keras.models import Model\n",
        "from tensorflow.keras.optimizers import Adam\n",
        "from sklearn.preprocessing import LabelEncoder"
      ],
      "execution_count": 0,
      "outputs": []
    },
    {
      "cell_type": "code",
      "metadata": {
        "id": "wSRfIFcRjVbv",
        "colab_type": "code",
        "outputId": "2cbe7d7c-f1fc-407a-c375-a1f7c7416e6b",
        "colab": {
          "base_uri": "https://localhost:8080/",
          "height": 202
        }
      },
      "source": [
        "!wget http://files.grouplens.org/datasets/movielens/ml-latest-small.zip\n"
        "#linux command to download zip file from the url\n",
      ],
      "execution_count": 15,
      "outputs": [
        {
          "output_type": "stream",
          "text": [
            "--2020-05-22 11:13:21--  http://files.grouplens.org/datasets/movielens/ml-latest-small.zip\n",
            "Resolving files.grouplens.org (files.grouplens.org)... 128.101.65.152\n",
            "Connecting to files.grouplens.org (files.grouplens.org)|128.101.65.152|:80... connected.\n",
            "HTTP request sent, awaiting response... 200 OK\n",
            "Length: 978202 (955K) [application/zip]\n",
            "Saving to: ‘ml-latest-small.zip’\n",
            "\n",
            "\rml-latest-small.zip   0%[                    ]       0  --.-KB/s               \rml-latest-small.zip 100%[===================>] 955.28K  --.-KB/s    in 0.1s    \n",
            "\n",
            "2020-05-22 11:13:21 (7.53 MB/s) - ‘ml-latest-small.zip’ saved [978202/978202]\n",
            "\n"
          ],
          "name": "stdout"
        }
      ]
    },
    {
      "cell_type": "markdown",
      "metadata": {
        "id": "8Ghh0kv1CLTY",
        "colab_type": "text"
      },
      "source": [
        "The data set is freely available on the MovieLens website."
      ]
    },
    {
      "cell_type": "code",
      "metadata": {
        "id": "G235IpZEDxZ6",
        "colab_type": "code",
        "outputId": "b906057f-1303-4358-8cfe-81066ef9f8fa",
        "colab": {
          "base_uri": "https://localhost:8080/",
          "height": 134
        }
      },
      "source": [
        "!unzip ml-latest-small.zip\n"
      ],
      "execution_count": 17,
      "outputs": [
        {
          "output_type": "stream",
          "text": [
            "Archive:  ml-latest-small.zip\n",
            "   creating: ml-latest-small/\n",
            "  inflating: ml-latest-small/links.csv  \n",
            "  inflating: ml-latest-small/tags.csv  \n",
            "  inflating: ml-latest-small/ratings.csv  \n",
            "  inflating: ml-latest-small/README.txt  \n",
            "  inflating: ml-latest-small/movies.csv  \n"
          ],
          "name": "stdout"
        }
      ]
    },
    {
      "cell_type": "code",
      "metadata": {
        "id": "oV5azLNFD4ef",
        "colab_type": "code",
        "outputId": "1c07cf84-f3a4-4e20-967b-181c1e5e565a",
        "colab": {
          "base_uri": "https://localhost:8080/",
          "height": 195
        }
      },
      "source": [
        "#reads the csv file\n",
        "\n",
        "movies = pd.read_csv('ml-latest-small/movies.csv')\n",
        "movies.head()"
      ],
      "execution_count": 18,
      "outputs": [
        {
          "output_type": "execute_result",
          "data": {
            "text/html": [
              "<div>\n",
              "<style scoped>\n",
              "    .dataframe tbody tr th:only-of-type {\n",
              "        vertical-align: middle;\n",
              "    }\n",
              "\n",
              "    .dataframe tbody tr th {\n",
              "        vertical-align: top;\n",
              "    }\n",
              "\n",
              "    .dataframe thead th {\n",
              "        text-align: right;\n",
              "    }\n",
              "</style>\n",
              "<table border=\"1\" class=\"dataframe\">\n",
              "  <thead>\n",
              "    <tr style=\"text-align: right;\">\n",
              "      <th></th>\n",
              "      <th>movieId</th>\n",
              "      <th>title</th>\n",
              "      <th>genres</th>\n",
              "    </tr>\n",
              "  </thead>\n",
              "  <tbody>\n",
              "    <tr>\n",
              "      <th>0</th>\n",
              "      <td>1</td>\n",
              "      <td>Toy Story (1995)</td>\n",
              "      <td>Adventure|Animation|Children|Comedy|Fantasy</td>\n",
              "    </tr>\n",
              "    <tr>\n",
              "      <th>1</th>\n",
              "      <td>2</td>\n",
              "      <td>Jumanji (1995)</td>\n",
              "      <td>Adventure|Children|Fantasy</td>\n",
              "    </tr>\n",
              "    <tr>\n",
              "      <th>2</th>\n",
              "      <td>3</td>\n",
              "      <td>Grumpier Old Men (1995)</td>\n",
              "      <td>Comedy|Romance</td>\n",
              "    </tr>\n",
              "    <tr>\n",
              "      <th>3</th>\n",
              "      <td>4</td>\n",
              "      <td>Waiting to Exhale (1995)</td>\n",
              "      <td>Comedy|Drama|Romance</td>\n",
              "    </tr>\n",
              "    <tr>\n",
              "      <th>4</th>\n",
              "      <td>5</td>\n",
              "      <td>Father of the Bride Part II (1995)</td>\n",
              "      <td>Comedy</td>\n",
              "    </tr>\n",
              "  </tbody>\n",
              "</table>\n",
              "</div>"
            ],
            "text/plain": [
              "   movieId  ...                                       genres\n",
              "0        1  ...  Adventure|Animation|Children|Comedy|Fantasy\n",
              "1        2  ...                   Adventure|Children|Fantasy\n",
              "2        3  ...                               Comedy|Romance\n",
              "3        4  ...                         Comedy|Drama|Romance\n",
              "4        5  ...                                       Comedy\n",
              "\n",
              "[5 rows x 3 columns]"
            ]
          },
          "metadata": {
            "tags": []
          },
          "execution_count": 18
        }
      ]
    },
    {
      "cell_type": "code",
      "metadata": {
        "id": "IibJsUu3FvYF",
        "colab_type": "code",
        "outputId": "67640863-4a33-43d3-9ff9-7dbb0c3afd0b",
        "colab": {
          "base_uri": "https://localhost:8080/",
          "height": 195
        }
      },
      "source": [
        "ratings = pd.read_csv('ml-latest-small/ratings.csv')\n",
        "ratings.head()\n"
      ],
      "execution_count": 19,
      "outputs": [
        {
          "output_type": "execute_result",
          "data": {
            "text/html": [
              "<div>\n",
              "<style scoped>\n",
              "    .dataframe tbody tr th:only-of-type {\n",
              "        vertical-align: middle;\n",
              "    }\n",
              "\n",
              "    .dataframe tbody tr th {\n",
              "        vertical-align: top;\n",
              "    }\n",
              "\n",
              "    .dataframe thead th {\n",
              "        text-align: right;\n",
              "    }\n",
              "</style>\n",
              "<table border=\"1\" class=\"dataframe\">\n",
              "  <thead>\n",
              "    <tr style=\"text-align: right;\">\n",
              "      <th></th>\n",
              "      <th>userId</th>\n",
              "      <th>movieId</th>\n",
              "      <th>rating</th>\n",
              "      <th>timestamp</th>\n",
              "    </tr>\n",
              "  </thead>\n",
              "  <tbody>\n",
              "    <tr>\n",
              "      <th>0</th>\n",
              "      <td>1</td>\n",
              "      <td>1</td>\n",
              "      <td>4.0</td>\n",
              "      <td>964982703</td>\n",
              "    </tr>\n",
              "    <tr>\n",
              "      <th>1</th>\n",
              "      <td>1</td>\n",
              "      <td>3</td>\n",
              "      <td>4.0</td>\n",
              "      <td>964981247</td>\n",
              "    </tr>\n",
              "    <tr>\n",
              "      <th>2</th>\n",
              "      <td>1</td>\n",
              "      <td>6</td>\n",
              "      <td>4.0</td>\n",
              "      <td>964982224</td>\n",
              "    </tr>\n",
              "    <tr>\n",
              "      <th>3</th>\n",
              "      <td>1</td>\n",
              "      <td>47</td>\n",
              "      <td>5.0</td>\n",
              "      <td>964983815</td>\n",
              "    </tr>\n",
              "    <tr>\n",
              "      <th>4</th>\n",
              "      <td>1</td>\n",
              "      <td>50</td>\n",
              "      <td>5.0</td>\n",
              "      <td>964982931</td>\n",
              "    </tr>\n",
              "  </tbody>\n",
              "</table>\n",
              "</div>"
            ],
            "text/plain": [
              "   userId  movieId  rating  timestamp\n",
              "0       1        1     4.0  964982703\n",
              "1       1        3     4.0  964981247\n",
              "2       1        6     4.0  964982224\n",
              "3       1       47     5.0  964983815\n",
              "4       1       50     5.0  964982931"
            ]
          },
          "metadata": {
            "tags": []
          },
          "execution_count": 19
        }
      ]
    },
    {
      "cell_type": "code",
      "metadata": {
        "id": "_2j9oz8YWOvk",
        "colab_type": "code",
        "outputId": "8c70a3ee-21ac-4611-981f-5ef59a272d91",
        "colab": {
          "base_uri": "https://localhost:8080/",
          "height": 195
        }
      },
      "source": [
        "ratings = ratings.merge(movies, on='movieId').drop(['genres','timestamp'],axis=1) \n",
        "#if we don't merge on movieId, pandas automatically detects the column name which is same on both dataframes.  \n",
        "ratings.head()"
      ],
      "execution_count": 20,
      "outputs": [
        {
          "output_type": "execute_result",
          "data": {
            "text/html": [
              "<div>\n",
              "<style scoped>\n",
              "    .dataframe tbody tr th:only-of-type {\n",
              "        vertical-align: middle;\n",
              "    }\n",
              "\n",
              "    .dataframe tbody tr th {\n",
              "        vertical-align: top;\n",
              "    }\n",
              "\n",
              "    .dataframe thead th {\n",
              "        text-align: right;\n",
              "    }\n",
              "</style>\n",
              "<table border=\"1\" class=\"dataframe\">\n",
              "  <thead>\n",
              "    <tr style=\"text-align: right;\">\n",
              "      <th></th>\n",
              "      <th>userId</th>\n",
              "      <th>movieId</th>\n",
              "      <th>rating</th>\n",
              "      <th>title</th>\n",
              "    </tr>\n",
              "  </thead>\n",
              "  <tbody>\n",
              "    <tr>\n",
              "      <th>0</th>\n",
              "      <td>1</td>\n",
              "      <td>1</td>\n",
              "      <td>4.0</td>\n",
              "      <td>Toy Story (1995)</td>\n",
              "    </tr>\n",
              "    <tr>\n",
              "      <th>1</th>\n",
              "      <td>5</td>\n",
              "      <td>1</td>\n",
              "      <td>4.0</td>\n",
              "      <td>Toy Story (1995)</td>\n",
              "    </tr>\n",
              "    <tr>\n",
              "      <th>2</th>\n",
              "      <td>7</td>\n",
              "      <td>1</td>\n",
              "      <td>4.5</td>\n",
              "      <td>Toy Story (1995)</td>\n",
              "    </tr>\n",
              "    <tr>\n",
              "      <th>3</th>\n",
              "      <td>15</td>\n",
              "      <td>1</td>\n",
              "      <td>2.5</td>\n",
              "      <td>Toy Story (1995)</td>\n",
              "    </tr>\n",
              "    <tr>\n",
              "      <th>4</th>\n",
              "      <td>17</td>\n",
              "      <td>1</td>\n",
              "      <td>4.5</td>\n",
              "      <td>Toy Story (1995)</td>\n",
              "    </tr>\n",
              "  </tbody>\n",
              "</table>\n",
              "</div>"
            ],
            "text/plain": [
              "   userId  movieId  rating             title\n",
              "0       1        1     4.0  Toy Story (1995)\n",
              "1       5        1     4.0  Toy Story (1995)\n",
              "2       7        1     4.5  Toy Story (1995)\n",
              "3      15        1     2.5  Toy Story (1995)\n",
              "4      17        1     4.5  Toy Story (1995)"
            ]
          },
          "metadata": {
            "tags": []
          },
          "execution_count": 20
        }
      ]
    },
    {
      "cell_type": "markdown",
      "metadata": {
        "id": "NvIkpT8LXUDA",
        "colab_type": "text"
      },
      "source": [
        "Since the rating's DataFrame doesn't contain movie title so we merged them for covenience"
      ]
    },
    {
      "cell_type": "markdown",
      "metadata": {
        "id": "eb42A91VahfH",
        "colab_type": "text"
      },
      "source": [
        "Since movieId and userId are not sequential which poses a problem for the model.Hence, LabelEncoder is used to make it sequential."
      ]
    },
    {
      "cell_type": "code",
      "metadata": {
        "id": "wnMPv60CbBJd",
        "colab_type": "code",
        "outputId": "c8257a38-6929-4bd2-b3f1-33b5278a8188",
        "colab": {
          "base_uri": "https://localhost:8080/",
          "height": 195
        }
      },
      "source": [
        "#Embedding layers require a sequential index starting from zero.\n",
        "\n",
        "user_enc = LabelEncoder()\n",
        "ratings['userSeq'] = user_enc.fit_transform(ratings['userId'].values)\n",
        "\n",
        "item_enc = LabelEncoder()\n",
        "ratings['movieSeq'] = item_enc.fit_transform(ratings['movieId'].values)\n",
        "\n",
        "ratings.head()"
      ],
      "execution_count": 21,
      "outputs": [
        {
          "output_type": "execute_result",
          "data": {
            "text/html": [
              "<div>\n",
              "<style scoped>\n",
              "    .dataframe tbody tr th:only-of-type {\n",
              "        vertical-align: middle;\n",
              "    }\n",
              "\n",
              "    .dataframe tbody tr th {\n",
              "        vertical-align: top;\n",
              "    }\n",
              "\n",
              "    .dataframe thead th {\n",
              "        text-align: right;\n",
              "    }\n",
              "</style>\n",
              "<table border=\"1\" class=\"dataframe\">\n",
              "  <thead>\n",
              "    <tr style=\"text-align: right;\">\n",
              "      <th></th>\n",
              "      <th>userId</th>\n",
              "      <th>movieId</th>\n",
              "      <th>rating</th>\n",
              "      <th>title</th>\n",
              "      <th>userSeq</th>\n",
              "      <th>movieSeq</th>\n",
              "    </tr>\n",
              "  </thead>\n",
              "  <tbody>\n",
              "    <tr>\n",
              "      <th>0</th>\n",
              "      <td>1</td>\n",
              "      <td>1</td>\n",
              "      <td>4.0</td>\n",
              "      <td>Toy Story (1995)</td>\n",
              "      <td>0</td>\n",
              "      <td>0</td>\n",
              "    </tr>\n",
              "    <tr>\n",
              "      <th>1</th>\n",
              "      <td>5</td>\n",
              "      <td>1</td>\n",
              "      <td>4.0</td>\n",
              "      <td>Toy Story (1995)</td>\n",
              "      <td>4</td>\n",
              "      <td>0</td>\n",
              "    </tr>\n",
              "    <tr>\n",
              "      <th>2</th>\n",
              "      <td>7</td>\n",
              "      <td>1</td>\n",
              "      <td>4.5</td>\n",
              "      <td>Toy Story (1995)</td>\n",
              "      <td>6</td>\n",
              "      <td>0</td>\n",
              "    </tr>\n",
              "    <tr>\n",
              "      <th>3</th>\n",
              "      <td>15</td>\n",
              "      <td>1</td>\n",
              "      <td>2.5</td>\n",
              "      <td>Toy Story (1995)</td>\n",
              "      <td>14</td>\n",
              "      <td>0</td>\n",
              "    </tr>\n",
              "    <tr>\n",
              "      <th>4</th>\n",
              "      <td>17</td>\n",
              "      <td>1</td>\n",
              "      <td>4.5</td>\n",
              "      <td>Toy Story (1995)</td>\n",
              "      <td>16</td>\n",
              "      <td>0</td>\n",
              "    </tr>\n",
              "  </tbody>\n",
              "</table>\n",
              "</div>"
            ],
            "text/plain": [
              "   userId  movieId  rating             title  userSeq  movieSeq\n",
              "0       1        1     4.0  Toy Story (1995)        0         0\n",
              "1       5        1     4.0  Toy Story (1995)        4         0\n",
              "2       7        1     4.5  Toy Story (1995)        6         0\n",
              "3      15        1     2.5  Toy Story (1995)       14         0\n",
              "4      17        1     4.5  Toy Story (1995)       16         0"
            ]
          },
          "metadata": {
            "tags": []
          },
          "execution_count": 21
        }
      ]
    },
    {
      "cell_type": "markdown",
      "metadata": {
        "id": "Q3eumRTddHjI",
        "colab_type": "text"
      },
      "source": [
        "We need ratings for every movie from every user to train an accurate model. If we used a traditional split, some movies might be left out, which will cause problems during prediction.\n",
        "\n",
        "For this reason, we will use all of the data for training and a subset for model validation only."
      ]
    },
    {
      "cell_type": "code",
      "metadata": {
        "id": "xcLF_iRhbE7r",
        "colab_type": "code",
        "outputId": "1c447691-c589-4e20-f37e-6fe88f8dadf7",
        "colab": {
          "base_uri": "https://localhost:8080/",
          "height": 50
        }
      },
      "source": [
        "train_unused, test = train_test_split(ratings, test_size=0.20, random_state=0)\n",
        "#test size is 20% of training data\n",
        "# All data is used for training\n",
        "train = ratings\n",
        "\n",
        "numUsers = len(train.userSeq.unique())\n",
        "numMovies = len(train.movieSeq.unique())\n",
        "print((numUsers, numMovies))\n",
        "print((len(train), len(test)))"
      ],
      "execution_count": 22,
      "outputs": [
        {
          "output_type": "stream",
          "text": [
            "(610, 9724)\n",
            "(100836, 20168)\n"
          ],
          "name": "stdout"
        }
      ]
    },
    {
      "cell_type": "code",
      "metadata": {
        "id": "B0Aor0thdZcE",
        "colab_type": "code",
        "colab": {}
      },
      "source": [
        "# We used collaborative filtering for better prediction. \n",
        "#The numFeatures variable below is a hyperparameter that can be tuned to optimize performance."
      ],
      "execution_count": 0,
      "outputs": []
    },
    {
      "cell_type": "code",
      "metadata": {
        "id": "fsYClSLEeQMx",
        "colab_type": "code",
        "colab": {
          "base_uri": "https://localhost:8080/",
          "height": 672
        },
        "outputId": "0bfc4cd8-b35c-471c-bf96-4f95291a4650"
      },
      "source": [
        "#We use keras functional API as we have two set of inputs\n",
        "#Four embedding layers are used, two for feature vectors, two for biases.\n",
        "\n",
        "numFeatures = 50\n",
        "\n",
        "#It is the number of features that we add to the model.\n",
        "#value of numFeartures shows the output dimension of the feature vectors.\n",
        "\n",
        "\n",
        "dropout = 0.0\n",
        "\n",
        "user_input = Input(shape=(1,))\n",
        "user_emb = Embedding(numUsers, numFeatures)(user_input)\n",
        "flat_user = Flatten()(user_emb)\n",
        "user_dropout = Dropout(dropout)(flat_user)\n",
        "\n",
        "movie_input = Input(shape=(1,))\n",
        "movie_emb = Embedding(numMovies, numFeatures)(movie_input)\n",
        "flat_movie = Flatten()(movie_emb)\n",
        "movie_dropout = Dropout(dropout)(flat_movie)\n",
        "\n",
        "dotProduct = Dot(axes=1)([user_dropout, movie_dropout])\n",
        "\n",
        "#Certain viewers rate 1 even for a very bad movie and some users don't rate 5 for an excellent movie\n",
        "user_bias = Embedding(numUsers, 1)(user_input) \n",
        "movie_bias = Embedding(numMovies, 1)(movie_input)\n",
        "sum = Add()([dotProduct, user_bias, movie_bias])\n",
        "flat_sum = Flatten()(sum)\n",
        "output = Dropout(dropout)(flat_sum)\n",
        "\n",
        "model = Model([user_input, movie_input], output)\n",
        "\n",
        "model.summary()"
      ],
      "execution_count": 26,
      "outputs": [
        {
          "output_type": "stream",
          "text": [
            "Model: \"model_3\"\n",
            "__________________________________________________________________________________________________\n",
            "Layer (type)                    Output Shape         Param #     Connected to                     \n",
            "==================================================================================================\n",
            "input_7 (InputLayer)            [(None, 1)]          0                                            \n",
            "__________________________________________________________________________________________________\n",
            "input_8 (InputLayer)            [(None, 1)]          0                                            \n",
            "__________________________________________________________________________________________________\n",
            "embedding_12 (Embedding)        (None, 1, 50)        30500       input_7[0][0]                    \n",
            "__________________________________________________________________________________________________\n",
            "embedding_13 (Embedding)        (None, 1, 50)        486200      input_8[0][0]                    \n",
            "__________________________________________________________________________________________________\n",
            "flatten_9 (Flatten)             (None, 50)           0           embedding_12[0][0]               \n",
            "__________________________________________________________________________________________________\n",
            "flatten_10 (Flatten)            (None, 50)           0           embedding_13[0][0]               \n",
            "__________________________________________________________________________________________________\n",
            "dropout_9 (Dropout)             (None, 50)           0           flatten_9[0][0]                  \n",
            "__________________________________________________________________________________________________\n",
            "dropout_10 (Dropout)            (None, 50)           0           flatten_10[0][0]                 \n",
            "__________________________________________________________________________________________________\n",
            "dot_3 (Dot)                     (None, 1)            0           dropout_9[0][0]                  \n",
            "                                                                 dropout_10[0][0]                 \n",
            "__________________________________________________________________________________________________\n",
            "embedding_14 (Embedding)        (None, 1, 1)         610         input_7[0][0]                    \n",
            "__________________________________________________________________________________________________\n",
            "embedding_15 (Embedding)        (None, 1, 1)         9724        input_8[0][0]                    \n",
            "__________________________________________________________________________________________________\n",
            "add_3 (Add)                     (None, 1, 1)         0           dot_3[0][0]                      \n",
            "                                                                 embedding_14[0][0]               \n",
            "                                                                 embedding_15[0][0]               \n",
            "__________________________________________________________________________________________________\n",
            "flatten_11 (Flatten)            (None, 1)            0           add_3[0][0]                      \n",
            "__________________________________________________________________________________________________\n",
            "dropout_11 (Dropout)            (None, 1)            0           flatten_11[0][0]                 \n",
            "==================================================================================================\n",
            "Total params: 527,034\n",
            "Trainable params: 527,034\n",
            "Non-trainable params: 0\n",
            "__________________________________________________________________________________________________\n"
          ],
          "name": "stdout"
        }
      ]
    },
    {
      "cell_type": "markdown",
      "metadata": {
        "id": "v7wYScO1B5Uj",
        "colab_type": "text"
      },
      "source": [
        "Model training"
      ]
    },
    {
      "cell_type": "code",
      "metadata": {
        "id": "ZMNWS98IBPDE",
        "colab_type": "code",
        "colab": {
          "base_uri": "https://localhost:8080/",
          "height": 631
        },
        "outputId": "815070fa-d497-44fa-b5de-fe01667776f0"
      },
      "source": [
        "model.compile(loss='mean_squared_error', optimizer=Adam())\n",
        "history = model.fit([train.userSeq, train.movieSeq], train.rating,\n",
        "                    batch_size=32, epochs=10, verbose=1,\n",
        "                    validation_data=([test.userSeq, test.movieSeq], test.rating))\n",
        "#we passed both userseq and movieseq as input\n",
        "#verbose=1 shows detail of each epoch\n",
        "plt.plot(history.history['loss'])\n",
        "plt.plot(history.history['val_loss'])\n",
        "plt.title('Model accuracy')\n",
        "plt.ylabel('Accuracy')\n",
        "plt.xlabel('Epoch')\n",
        "plt.legend(['Train', 'Test'], loc='upper left')\n",
        "plt.show()"
      ],
      "execution_count": 28,
      "outputs": [
        {
          "output_type": "stream",
          "text": [
            "Epoch 1/10\n",
            "3152/3152 [==============================] - 17s 5ms/step - loss: 0.1860 - val_loss: 0.1384\n",
            "Epoch 2/10\n",
            "3152/3152 [==============================] - 17s 5ms/step - loss: 0.1560 - val_loss: 0.1168\n",
            "Epoch 3/10\n",
            "3152/3152 [==============================] - 17s 6ms/step - loss: 0.1343 - val_loss: 0.0992\n",
            "Epoch 4/10\n",
            "3152/3152 [==============================] - 17s 5ms/step - loss: 0.1171 - val_loss: 0.0886\n",
            "Epoch 5/10\n",
            "3152/3152 [==============================] - 17s 5ms/step - loss: 0.1042 - val_loss: 0.0780\n",
            "Epoch 6/10\n",
            "3152/3152 [==============================] - 17s 5ms/step - loss: 0.0938 - val_loss: 0.0730\n",
            "Epoch 7/10\n",
            "3152/3152 [==============================] - 17s 5ms/step - loss: 0.0859 - val_loss: 0.0671\n",
            "Epoch 8/10\n",
            "3152/3152 [==============================] - 16s 5ms/step - loss: 0.0794 - val_loss: 0.0627\n",
            "Epoch 9/10\n",
            "3152/3152 [==============================] - 16s 5ms/step - loss: 0.0742 - val_loss: 0.0582\n",
            "Epoch 10/10\n",
            "3152/3152 [==============================] - 16s 5ms/step - loss: 0.0695 - val_loss: 0.0556\n"
          ],
          "name": "stdout"
        },
        {
          "output_type": "display_data",
          "data": {
            "image/png": "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\n",
            "text/plain": [
              "<Figure size 432x288 with 1 Axes>"
            ]
          },
          "metadata": {
            "tags": [],
            "needs_background": "light"
          }
        }
      ]
    },
    {
      "cell_type": "markdown",
      "metadata": {
        "id": "1z3lkqsOGynK",
        "colab_type": "text"
      },
      "source": [
        "This is not a case of overfitting"
      ]
    },
    {
      "cell_type": "code",
      "metadata": {
        "id": "PN7cNawfB-vt",
        "colab_type": "code",
        "colab": {
          "base_uri": "https://localhost:8080/",
          "height": 343
        },
        "outputId": "ffbe6cc4-c856-4565-9041-9c56bdd6ff13"
      },
      "source": [
        "#PREDICTION\n",
        "\n",
        "# The user for whom we want to make recommendations\n",
        "userNumber = 0\n",
        "\n",
        "uniqueMovies = ratings.drop_duplicates(subset=['movieSeq'])\n",
        "\n",
        "movie_vector = uniqueMovies.movieSeq.values\n",
        "user_vector = np.ones((len(uniqueMovies),)) * userNumber\n",
        "predictions = model.predict([user_vector, movie_vector])\n",
        "pSeries = pd.Series([a[0] for a in predictions])\n",
        "predictedDF = uniqueMovies.copy()\n",
        "predictedDF['Predictions'] = pSeries\n",
        "\n",
        "predictedDF.sort_values(by='Predictions', ascending=False).head(10)"
      ],
      "execution_count": 31,
      "outputs": [
        {
          "output_type": "execute_result",
          "data": {
            "text/html": [
              "<div>\n",
              "<style scoped>\n",
              "    .dataframe tbody tr th:only-of-type {\n",
              "        vertical-align: middle;\n",
              "    }\n",
              "\n",
              "    .dataframe tbody tr th {\n",
              "        vertical-align: top;\n",
              "    }\n",
              "\n",
              "    .dataframe thead th {\n",
              "        text-align: right;\n",
              "    }\n",
              "</style>\n",
              "<table border=\"1\" class=\"dataframe\">\n",
              "  <thead>\n",
              "    <tr style=\"text-align: right;\">\n",
              "      <th></th>\n",
              "      <th>userId</th>\n",
              "      <th>movieId</th>\n",
              "      <th>rating</th>\n",
              "      <th>title</th>\n",
              "      <th>userSeq</th>\n",
              "      <th>movieSeq</th>\n",
              "      <th>Predictions</th>\n",
              "    </tr>\n",
              "  </thead>\n",
              "  <tbody>\n",
              "    <tr>\n",
              "      <th>4121</th>\n",
              "      <td>1</td>\n",
              "      <td>592</td>\n",
              "      <td>4.0</td>\n",
              "      <td>Batman (1989)</td>\n",
              "      <td>0</td>\n",
              "      <td>509</td>\n",
              "      <td>6.058355</td>\n",
              "    </tr>\n",
              "    <tr>\n",
              "      <th>5770</th>\n",
              "      <td>1</td>\n",
              "      <td>1025</td>\n",
              "      <td>5.0</td>\n",
              "      <td>Sword in the Stone, The (1963)</td>\n",
              "      <td>0</td>\n",
              "      <td>783</td>\n",
              "      <td>5.465648</td>\n",
              "    </tr>\n",
              "    <tr>\n",
              "      <th>2755</th>\n",
              "      <td>1</td>\n",
              "      <td>362</td>\n",
              "      <td>5.0</td>\n",
              "      <td>Jungle Book, The (1994)</td>\n",
              "      <td>0</td>\n",
              "      <td>320</td>\n",
              "      <td>5.384766</td>\n",
              "    </tr>\n",
              "    <tr>\n",
              "      <th>1135</th>\n",
              "      <td>1</td>\n",
              "      <td>157</td>\n",
              "      <td>5.0</td>\n",
              "      <td>Canadian Bacon (1995)</td>\n",
              "      <td>0</td>\n",
              "      <td>130</td>\n",
              "      <td>5.237835</td>\n",
              "    </tr>\n",
              "    <tr>\n",
              "      <th>6347</th>\n",
              "      <td>1</td>\n",
              "      <td>1090</td>\n",
              "      <td>4.0</td>\n",
              "      <td>Platoon (1986)</td>\n",
              "      <td>0</td>\n",
              "      <td>828</td>\n",
              "      <td>5.234863</td>\n",
              "    </tr>\n",
              "    <tr>\n",
              "      <th>1091</th>\n",
              "      <td>1</td>\n",
              "      <td>151</td>\n",
              "      <td>5.0</td>\n",
              "      <td>Rob Roy (1995)</td>\n",
              "      <td>0</td>\n",
              "      <td>124</td>\n",
              "      <td>5.171597</td>\n",
              "    </tr>\n",
              "    <tr>\n",
              "      <th>369</th>\n",
              "      <td>1</td>\n",
              "      <td>47</td>\n",
              "      <td>5.0</td>\n",
              "      <td>Seven (a.k.a. Se7en) (1995)</td>\n",
              "      <td>0</td>\n",
              "      <td>43</td>\n",
              "      <td>5.069719</td>\n",
              "    </tr>\n",
              "    <tr>\n",
              "      <th>1365</th>\n",
              "      <td>1</td>\n",
              "      <td>231</td>\n",
              "      <td>5.0</td>\n",
              "      <td>Dumb &amp; Dumber (Dumb and Dumber) (1994)</td>\n",
              "      <td>0</td>\n",
              "      <td>197</td>\n",
              "      <td>4.991984</td>\n",
              "    </tr>\n",
              "    <tr>\n",
              "      <th>4992</th>\n",
              "      <td>1</td>\n",
              "      <td>661</td>\n",
              "      <td>5.0</td>\n",
              "      <td>James and the Giant Peach (1996)</td>\n",
              "      <td>0</td>\n",
              "      <td>551</td>\n",
              "      <td>4.953398</td>\n",
              "    </tr>\n",
              "    <tr>\n",
              "      <th>3188</th>\n",
              "      <td>1</td>\n",
              "      <td>480</td>\n",
              "      <td>4.0</td>\n",
              "      <td>Jurassic Park (1993)</td>\n",
              "      <td>0</td>\n",
              "      <td>418</td>\n",
              "      <td>4.942486</td>\n",
              "    </tr>\n",
              "  </tbody>\n",
              "</table>\n",
              "</div>"
            ],
            "text/plain": [
              "      userId  movieId  rating  ... userSeq  movieSeq  Predictions\n",
              "4121       1      592     4.0  ...       0       509     6.058355\n",
              "5770       1     1025     5.0  ...       0       783     5.465648\n",
              "2755       1      362     5.0  ...       0       320     5.384766\n",
              "1135       1      157     5.0  ...       0       130     5.237835\n",
              "6347       1     1090     4.0  ...       0       828     5.234863\n",
              "1091       1      151     5.0  ...       0       124     5.171597\n",
              "369        1       47     5.0  ...       0        43     5.069719\n",
              "1365       1      231     5.0  ...       0       197     4.991984\n",
              "4992       1      661     5.0  ...       0       551     4.953398\n",
              "3188       1      480     4.0  ...       0       418     4.942486\n",
              "\n",
              "[10 rows x 7 columns]"
            ]
          },
          "metadata": {
            "tags": []
          },
          "execution_count": 31
        }
      ]
    },
    {
      "cell_type": "markdown",
      "metadata": {
        "id": "PI3c144qOzm1",
        "colab_type": "text"
      },
      "source": [
        "Hence, user 0 is mostly likely to watch batman."
      ]
    },
    {
      "cell_type": "code",
      "metadata": {
        "id": "KicCjBGOO7nT",
        "colab_type": "code",
        "colab": {
          "base_uri": "https://localhost:8080/",
          "height": 195
        },
        "outputId": "780b0dfc-c615-4ec0-f383-75bf452f440d"
      },
      "source": [
        "#ERRORS IN PREDICTION FOR USER 0\n",
        "\n",
        "oneUser = predictedDF[predictedDF.userSeq == userNumber].copy()\n",
        "oneUser['Error'] = (oneUser.rating - oneUser.Predictions)**2\n",
        "oneUser.sort_values(by='Error', ascending=False).head(5)"
      ],
      "execution_count": 32,
      "outputs": [
        {
          "output_type": "execute_result",
          "data": {
            "text/html": [
              "<div>\n",
              "<style scoped>\n",
              "    .dataframe tbody tr th:only-of-type {\n",
              "        vertical-align: middle;\n",
              "    }\n",
              "\n",
              "    .dataframe tbody tr th {\n",
              "        vertical-align: top;\n",
              "    }\n",
              "\n",
              "    .dataframe thead th {\n",
              "        text-align: right;\n",
              "    }\n",
              "</style>\n",
              "<table border=\"1\" class=\"dataframe\">\n",
              "  <thead>\n",
              "    <tr style=\"text-align: right;\">\n",
              "      <th></th>\n",
              "      <th>userId</th>\n",
              "      <th>movieId</th>\n",
              "      <th>rating</th>\n",
              "      <th>title</th>\n",
              "      <th>userSeq</th>\n",
              "      <th>movieSeq</th>\n",
              "      <th>Predictions</th>\n",
              "      <th>Error</th>\n",
              "    </tr>\n",
              "  </thead>\n",
              "  <tbody>\n",
              "    <tr>\n",
              "      <th>6641</th>\n",
              "      <td>1</td>\n",
              "      <td>1136</td>\n",
              "      <td>5.0</td>\n",
              "      <td>Monty Python and the Holy Grail (1975)</td>\n",
              "      <td>0</td>\n",
              "      <td>862</td>\n",
              "      <td>1.073096</td>\n",
              "      <td>15.420576</td>\n",
              "    </tr>\n",
              "    <tr>\n",
              "      <th>4649</th>\n",
              "      <td>1</td>\n",
              "      <td>608</td>\n",
              "      <td>5.0</td>\n",
              "      <td>Fargo (1996)</td>\n",
              "      <td>0</td>\n",
              "      <td>520</td>\n",
              "      <td>1.278610</td>\n",
              "      <td>13.848742</td>\n",
              "    </tr>\n",
              "    <tr>\n",
              "      <th>7753</th>\n",
              "      <td>1</td>\n",
              "      <td>1213</td>\n",
              "      <td>5.0</td>\n",
              "      <td>Goodfellas (1990)</td>\n",
              "      <td>0</td>\n",
              "      <td>913</td>\n",
              "      <td>1.306281</td>\n",
              "      <td>13.643559</td>\n",
              "    </tr>\n",
              "    <tr>\n",
              "      <th>6216</th>\n",
              "      <td>1</td>\n",
              "      <td>1089</td>\n",
              "      <td>5.0</td>\n",
              "      <td>Reservoir Dogs (1992)</td>\n",
              "      <td>0</td>\n",
              "      <td>827</td>\n",
              "      <td>1.335250</td>\n",
              "      <td>13.430392</td>\n",
              "    </tr>\n",
              "    <tr>\n",
              "      <th>8450</th>\n",
              "      <td>1</td>\n",
              "      <td>1256</td>\n",
              "      <td>5.0</td>\n",
              "      <td>Duck Soup (1933)</td>\n",
              "      <td>0</td>\n",
              "      <td>954</td>\n",
              "      <td>1.413242</td>\n",
              "      <td>12.864832</td>\n",
              "    </tr>\n",
              "  </tbody>\n",
              "</table>\n",
              "</div>"
            ],
            "text/plain": [
              "      userId  movieId  rating  ... movieSeq  Predictions      Error\n",
              "6641       1     1136     5.0  ...      862     1.073096  15.420576\n",
              "4649       1      608     5.0  ...      520     1.278610  13.848742\n",
              "7753       1     1213     5.0  ...      913     1.306281  13.643559\n",
              "6216       1     1089     5.0  ...      827     1.335250  13.430392\n",
              "8450       1     1256     5.0  ...      954     1.413242  12.864832\n",
              "\n",
              "[5 rows x 8 columns]"
            ]
          },
          "metadata": {
            "tags": []
          },
          "execution_count": 32
        }
      ]
    },
    {
      "cell_type": "markdown",
      "metadata": {
        "id": "0wdvMr7dQdi5",
        "colab_type": "text"
      },
      "source": [
        "Reason for this might be because there were other users similar to user 0 who didn't like the movie and rated it low."
      ]
    },
    {
      "cell_type": "code",
      "metadata": {
        "id": "ejJxCgw6QVou",
        "colab_type": "code",
        "colab": {
          "base_uri": "https://localhost:8080/",
          "height": 402
        },
        "outputId": "6c5380e2-7c0a-4f4c-ae68-5ea73fe14354"
      },
      "source": [
        "ratings[ratings.movieSeq == 862].sort_values(by='rating', ascending=True)"
      ],
      "execution_count": 33,
      "outputs": [
        {
          "output_type": "execute_result",
          "data": {
            "text/html": [
              "<div>\n",
              "<style scoped>\n",
              "    .dataframe tbody tr th:only-of-type {\n",
              "        vertical-align: middle;\n",
              "    }\n",
              "\n",
              "    .dataframe tbody tr th {\n",
              "        vertical-align: top;\n",
              "    }\n",
              "\n",
              "    .dataframe thead th {\n",
              "        text-align: right;\n",
              "    }\n",
              "</style>\n",
              "<table border=\"1\" class=\"dataframe\">\n",
              "  <thead>\n",
              "    <tr style=\"text-align: right;\">\n",
              "      <th></th>\n",
              "      <th>userId</th>\n",
              "      <th>movieId</th>\n",
              "      <th>rating</th>\n",
              "      <th>title</th>\n",
              "      <th>userSeq</th>\n",
              "      <th>movieSeq</th>\n",
              "    </tr>\n",
              "  </thead>\n",
              "  <tbody>\n",
              "    <tr>\n",
              "      <th>6717</th>\n",
              "      <td>329</td>\n",
              "      <td>1136</td>\n",
              "      <td>0.5</td>\n",
              "      <td>Monty Python and the Holy Grail (1975)</td>\n",
              "      <td>328</td>\n",
              "      <td>862</td>\n",
              "    </tr>\n",
              "    <tr>\n",
              "      <th>6671</th>\n",
              "      <td>143</td>\n",
              "      <td>1136</td>\n",
              "      <td>1.0</td>\n",
              "      <td>Monty Python and the Holy Grail (1975)</td>\n",
              "      <td>142</td>\n",
              "      <td>862</td>\n",
              "    </tr>\n",
              "    <tr>\n",
              "      <th>6758</th>\n",
              "      <td>517</td>\n",
              "      <td>1136</td>\n",
              "      <td>2.0</td>\n",
              "      <td>Monty Python and the Holy Grail (1975)</td>\n",
              "      <td>516</td>\n",
              "      <td>862</td>\n",
              "    </tr>\n",
              "    <tr>\n",
              "      <th>6688</th>\n",
              "      <td>217</td>\n",
              "      <td>1136</td>\n",
              "      <td>2.0</td>\n",
              "      <td>Monty Python and the Holy Grail (1975)</td>\n",
              "      <td>216</td>\n",
              "      <td>862</td>\n",
              "    </tr>\n",
              "    <tr>\n",
              "      <th>6697</th>\n",
              "      <td>247</td>\n",
              "      <td>1136</td>\n",
              "      <td>2.0</td>\n",
              "      <td>Monty Python and the Holy Grail (1975)</td>\n",
              "      <td>246</td>\n",
              "      <td>862</td>\n",
              "    </tr>\n",
              "    <tr>\n",
              "      <th>...</th>\n",
              "      <td>...</td>\n",
              "      <td>...</td>\n",
              "      <td>...</td>\n",
              "      <td>...</td>\n",
              "      <td>...</td>\n",
              "      <td>...</td>\n",
              "    </tr>\n",
              "    <tr>\n",
              "      <th>6699</th>\n",
              "      <td>266</td>\n",
              "      <td>1136</td>\n",
              "      <td>5.0</td>\n",
              "      <td>Monty Python and the Holy Grail (1975)</td>\n",
              "      <td>265</td>\n",
              "      <td>862</td>\n",
              "    </tr>\n",
              "    <tr>\n",
              "      <th>6696</th>\n",
              "      <td>239</td>\n",
              "      <td>1136</td>\n",
              "      <td>5.0</td>\n",
              "      <td>Monty Python and the Holy Grail (1975)</td>\n",
              "      <td>238</td>\n",
              "      <td>862</td>\n",
              "    </tr>\n",
              "    <tr>\n",
              "      <th>6693</th>\n",
              "      <td>226</td>\n",
              "      <td>1136</td>\n",
              "      <td>5.0</td>\n",
              "      <td>Monty Python and the Holy Grail (1975)</td>\n",
              "      <td>225</td>\n",
              "      <td>862</td>\n",
              "    </tr>\n",
              "    <tr>\n",
              "      <th>6684</th>\n",
              "      <td>204</td>\n",
              "      <td>1136</td>\n",
              "      <td>5.0</td>\n",
              "      <td>Monty Python and the Holy Grail (1975)</td>\n",
              "      <td>203</td>\n",
              "      <td>862</td>\n",
              "    </tr>\n",
              "    <tr>\n",
              "      <th>6776</th>\n",
              "      <td>610</td>\n",
              "      <td>1136</td>\n",
              "      <td>5.0</td>\n",
              "      <td>Monty Python and the Holy Grail (1975)</td>\n",
              "      <td>609</td>\n",
              "      <td>862</td>\n",
              "    </tr>\n",
              "  </tbody>\n",
              "</table>\n",
              "<p>136 rows × 6 columns</p>\n",
              "</div>"
            ],
            "text/plain": [
              "      userId  movieId  ...  userSeq movieSeq\n",
              "6717     329     1136  ...      328      862\n",
              "6671     143     1136  ...      142      862\n",
              "6758     517     1136  ...      516      862\n",
              "6688     217     1136  ...      216      862\n",
              "6697     247     1136  ...      246      862\n",
              "...      ...      ...  ...      ...      ...\n",
              "6699     266     1136  ...      265      862\n",
              "6696     239     1136  ...      238      862\n",
              "6693     226     1136  ...      225      862\n",
              "6684     204     1136  ...      203      862\n",
              "6776     610     1136  ...      609      862\n",
              "\n",
              "[136 rows x 6 columns]"
            ]
          },
          "metadata": {
            "tags": []
          },
          "execution_count": 33
        }
      ]
    },
    {
      "cell_type": "markdown",
      "metadata": {
        "id": "uFkSLbQnS6VG",
        "colab_type": "text"
      },
      "source": [
        "We can improve this model by increasing the size of the dataset and adjusting the hyperparameters."
      ]
    },
    {
      "cell_type": "code",
      "metadata": {
        "id": "7VfsryzwQ4YL",
        "colab_type": "code",
        "colab": {}
      },
      "source": [
        ""
      ],
      "execution_count": 0,
      "outputs": []
    }
  ]
}
